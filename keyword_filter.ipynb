{
 "cells": [
  {
   "cell_type": "code",
   "execution_count": 1,
   "metadata": {},
   "outputs": [],
   "source": [
    "#只要出现keyword就复制\n",
    "import re\n",
    "import os\n",
    "import shutil\n",
    "\n",
    "# 定义输入和输出文件夹路径\n",
    "input_folder = '/Users/yitengxu/Desktop/PaperScraper-Final/RSCPapers/RSCtxt'\n",
    "output_folder = '/Users/yitengxu/Desktop/PaperScraper-Final/RSCPapers/RSCtxt_keyword_filter'\n",
    "\n",
    "# 创建输出文件夹（如果不存在）\n",
    "os.makedirs(output_folder, exist_ok=True)\n",
    "\n",
    "\n",
    "\n",
    "# 定义要搜索的关键词列表\n",
    "keywords = ['fill factor', 'open circuit voltage', 'Short-circuit current','Open-circuit voltage','Power conversion efficiency']\n",
    "\n",
    "# 遍历文件夹中的所有文件\n",
    "for filename in os.listdir(input_folder):\n",
    "    if filename.endswith('.txt'):\n",
    "        file_path = os.path.join(input_folder, filename)\n",
    "        with open(file_path, 'r', encoding='utf-8') as file:\n",
    "            # 读取文件内容\n",
    "            content = file.read()\n",
    "\n",
    "            # 使用正则表达式搜索关键词，不区分大小写\n",
    "            for keyword in keywords:\n",
    "                if re.search(keyword, content, re.IGNORECASE):\n",
    "                    # 如果文件内包含关键词，将文件复制到新的文件夹中\n",
    "                    shutil.copy(file_path, os.path.join(output_folder, filename))\n",
    "                    # 只要匹配到一个关键词就可以复制，不需要继续搜索其他关键词\n",
    "                    break\n",
    "\n",
    "\n"
   ]
  },
  {
   "cell_type": "code",
   "execution_count": null,
   "metadata": {},
   "outputs": [],
   "source": []
  },
  {
   "cell_type": "code",
   "execution_count": 5,
   "metadata": {},
   "outputs": [],
   "source": [
    "#下面为 keyword 所有包含的再复制\n",
    "import re\n",
    "import os\n",
    "import shutil\n",
    "\n",
    "# 定义输入和输出文件夹路径\n",
    "input_folder = '/Users/yitengxu/Desktop/PaperScraper-Final/RSCPapers/RSCtxt'\n",
    "output_folder = '/Users/yitengxu/Desktop/PaperScraper-Final/RSCPapers/RSCtxt_keyword_filter2'\n",
    "\n",
    "# 创建输出文件夹（如果不存在）\n",
    "os.makedirs(output_folder, exist_ok=True)\n",
    "\n",
    "# 定义要搜索的关键词列表\n",
    "keywords = ['fill factor', 'open circuit voltage', r'Short[- ]?circuit current', r'Open[- ]?circuit voltage', 'Power conversion efficiency','JSC','VOC','FF']\n",
    "\n",
    "# 遍历文件夹中的所有文件\n",
    "for filename in os.listdir(input_folder):\n",
    "    if filename.endswith('.txt'):\n",
    "        file_path = os.path.join(input_folder, filename)\n",
    "        with open(file_path, 'r', encoding='utf-8') as file:\n",
    "            # 读取文件内容\n",
    "            content = file.read()\n",
    "\n",
    "              # 使用 all() 函数检查是否同时包含所有关键词，不区分大小写\n",
    "            if all(re.search(keyword, content, re.IGNORECASE) for keyword in keywords):\n",
    "                # 如果文件同时包含所有关键词，将文件复制到新的文件夹中\n",
    "                shutil.copy(file_path, os.path.join(output_folder, filename))\n"
   ]
  }
 ],
 "metadata": {
  "kernelspec": {
   "display_name": "Python 3",
   "language": "python",
   "name": "python3"
  },
  "language_info": {
   "codemirror_mode": {
    "name": "ipython",
    "version": 3
   },
   "file_extension": ".py",
   "mimetype": "text/x-python",
   "name": "python",
   "nbconvert_exporter": "python",
   "pygments_lexer": "ipython3",
   "version": "3.7.4"
  },
  "orig_nbformat": 4
 },
 "nbformat": 4,
 "nbformat_minor": 2
}
