{
 "cells": [
  {
   "cell_type": "code",
   "execution_count": 1,
   "id": "525efcfe",
   "metadata": {},
   "outputs": [],
   "source": [
    "# -*- coding: utf-8 -*-\n",
    "\"\"\"\n",
    "Elsevier web-scraper. PLEASE use your own API key.\n",
    "\"\"\"\n",
    "\n",
    "import json\n",
    "import requests\n",
    "import numpy as np\n",
    "\n",
    "\n",
    "def get_response(url, data, headers):\n",
    "    \"\"\"\n",
    "    Return the response from Elsevier\n",
    "    :param url: <str> base_url\n",
    "    :param data: <dict> data parameters\n",
    "    :param headers: <dict> headers\n",
    "    :return: response\n",
    "    \"\"\"\n",
    "    response = requests.put(url, data=json.dumps(data), headers=headers)\n",
    "    response = response.text.replace('false', 'False').replace('true', 'True')\n",
    "    try:\n",
    "        response = eval(response)\n",
    "    except BaseException:\n",
    "        print(response)\n",
    "    return response\n",
    "\n",
    "\n",
    "def get_doi(data, base_url, headers):\n",
    "    \"\"\"\n",
    "    Get DOIs\n",
    "    :param data: <dict> data parameters\n",
    "    :param volume: <int> the volume index\n",
    "    :param year: <int> the year index\n",
    "    :return: <list> of <str> list of DOIs\n",
    "    \"\"\"\n",
    "    dois = []\n",
    "    #data['volume'] = volume\n",
    "    #data[\"date\"] = year\n",
    "    response = get_response(base_url, data, headers)\n",
    "    if 'resultsFound' in response.keys():\n",
    "        print ('resultsFound: ' + str(response['resultsFound']))\n",
    "        n = int(np.ceil(response['resultsFound'])/50)\n",
    "        #print ('Number of results Found'+ str(n))\n",
    "    else:\n",
    "        n = 60\n",
    "    for offset in range(n + 1):\n",
    "        #print (n+1)\n",
    "        data[\"display\"][\"offset\"] = offset\n",
    "        response = get_response(base_url, data, headers)\n",
    "        # only open source\n",
    "        if 'results' in response.keys():\n",
    "            results = response['results']\n",
    "            for result in results:\n",
    "                if 'doi' in result:\n",
    "                    dois.append(result['doi'])\n",
    "    print('The lens are')\n",
    "    print (len(dois))\n",
    "    return dois\n",
    "\n",
    "\n",
    "def download_doi(doi,path,i):\n",
    "    \"\"\"\n",
    "    Download the paper according to the DOI\n",
    "    :param doi: <str> DOI\n",
    "    \"\"\"\n",
    "    with open(f'{path}/ElsevierPapers/'+ str(i)+'.xml', 'w', encoding='utf-8') as f:\n",
    "        request_url = 'https://api.elsevier.com/content/article/doi/{}?apiKey={}&httpAccept=text%2Fxml'.format(\n",
    "            doi, API_KEY)\n",
    "        text = requests.get(request_url).text\n",
    "        f.write(text)\n",
    "    return\n"
   ]
  },
  {
   "cell_type": "code",
   "execution_count": 2,
   "id": "d1304e5c",
   "metadata": {},
   "outputs": [
    {
     "name": "stdout",
     "output_type": "stream",
     "text": [
      "The lens are\n",
      "0\n"
     ]
    },
    {
     "data": {
      "text/plain": [
       "0"
      ]
     },
     "execution_count": 2,
     "metadata": {},
     "output_type": "execute_result"
    }
   ],
   "source": [
    "# ---------------------------------------- INPUT BOX, please input all info ----------------------------------------\n",
    "\n",
    "API_KEY = \"f23b3f1319067f98d6679efdfdaed87a\"\n",
    "#query = \"Antimony Selenide Solar cell\"\n",
    "#query = ['photovoltaic', 'antimony', 'selenide']\n",
    "\n",
    "query = 'Solar Cell Power conversion efficiency'\n",
    "#query = \"Solar cell\"\n",
    "\n",
    "path = '/Users/yitengxu/Desktop/PaperScraper-Final/ElsevierPapers/'\n",
    "# -------------------------------------------------- end of input box --------------------------------------------------\n",
    "\n",
    "base_url = 'https://api.elsevier.com/content/search/sciencedirect'\n",
    "\n",
    "\n",
    "data = {\"qs\": query,\n",
    "        #\"date\": 2021,\n",
    "        # \"volume\": 0,\n",
    "        \"display\": {\n",
    "            #\"show\": 1,\n",
    "            \"offset\": 0\n",
    "        }\n",
    "       }\n",
    "\n",
    "headers = {'x-els-apikey': API_KEY,\n",
    "           'Content-Type': 'application/json',\n",
    "           'Accept': 'application/json'\n",
    "          }\n",
    "\n",
    "get_response(base_url, data, headers)\n",
    "\n",
    "alldoi = get_doi(data, base_url, headers)\n",
    "len(alldoi)"
   ]
  },
  {
   "cell_type": "code",
   "execution_count": 4,
   "id": "567eb693",
   "metadata": {},
   "outputs": [
    {
     "ename": "IndexError",
     "evalue": "list index out of range",
     "output_type": "error",
     "traceback": [
      "\u001b[0;31m---------------------------------------------------------------------------\u001b[0m",
      "\u001b[0;31mIndexError\u001b[0m                                Traceback (most recent call last)",
      "\u001b[0;32m<ipython-input-4-aa9af0dab194>\u001b[0m in \u001b[0;36m<module>\u001b[0;34m\u001b[0m\n\u001b[1;32m      1\u001b[0m \u001b[0;31m# run to check content of first doi obtained\u001b[0m\u001b[0;34m\u001b[0m\u001b[0;34m\u001b[0m\u001b[0;34m\u001b[0m\u001b[0m\n\u001b[0;32m----> 2\u001b[0;31m \u001b[0malldoi\u001b[0m\u001b[0;34m[\u001b[0m\u001b[0;36m0\u001b[0m\u001b[0;34m]\u001b[0m\u001b[0;34m\u001b[0m\u001b[0;34m\u001b[0m\u001b[0m\n\u001b[0m",
      "\u001b[0;31mIndexError\u001b[0m: list index out of range"
     ]
    }
   ],
   "source": [
    "# run to check content of first doi obtained\n",
    "alldoi[0]"
   ]
  },
  {
   "cell_type": "code",
   "execution_count": 70,
   "id": "2dfcf986",
   "metadata": {},
   "outputs": [],
   "source": [
    "f=open(f'{path}/Elsevier_doi', 'w')\n",
    "for doi in alldoi:\n",
    "    f.write(doi+ '\\n')\n",
    "f.close()"
   ]
  },
  {
   "cell_type": "code",
   "execution_count": 82,
   "id": "842bcd11",
   "metadata": {},
   "outputs": [
    {
     "name": "stdout",
     "output_type": "stream",
     "text": [
      "There are 37 DOI lists in DOI_Elsevier File\n",
      "37\n"
     ]
    }
   ],
   "source": [
    "##To prevent repeated DIO string, file will remove extra one   在DOI文件里清除重复的DOI list\n",
    "\n",
    "\n",
    "filename = f'{path}/Elsevier_doi'\n",
    "with open(filename, 'r+') as file:\n",
    "    lines = file.readlines()\n",
    "    file.seek(0)  # 将文件指针移回文件开头\n",
    "    unique_lines = set(lines)  # 使用集合来去除重复的行\n",
    "    file.writelines(unique_lines)\n",
    "    file.truncate()  # 截断文件，删除多余的内容\n",
    "\n",
    "file1 = open(f'{path}/Elsevier_doi', 'r')\n",
    "Lines = file1.readlines()\n",
    "count = 0\n",
    "# Strips the newline character\n",
    "for line in Lines:\n",
    "    count += 1\n",
    "print('There are ' + str(count) + ' DOI lists in DOI_Elsevier File')\n",
    "\n",
    "\n",
    "# doi 记事本信息提取成list 格式\n",
    "def read_doi_file(file_path):\n",
    "    with open(file_path, 'r') as file:\n",
    "        dois = [line.strip() for line in file]\n",
    "    return dois\n",
    "\n",
    "dois = read_doi_file(filename)\n",
    "\n",
    "print(len(dois))"
   ]
  },
  {
   "cell_type": "code",
   "execution_count": 72,
   "id": "0cda414b",
   "metadata": {},
   "outputs": [
    {
     "name": "stdout",
     "output_type": "stream",
     "text": [
      "10.1016/j.jallcom.2016.10.043\n",
      "\n"
     ]
    }
   ],
   "source": [
    "# run to check doi of last obtained doi\n",
    "print (b[len(b)-1])"
   ]
  },
  {
   "cell_type": "code",
   "execution_count": 81,
   "id": "ca472299",
   "metadata": {},
   "outputs": [
    {
     "name": "stdout",
     "output_type": "stream",
     "text": [
      "1\n",
      "2\n",
      "3\n",
      "4\n",
      "5\n",
      "6\n",
      "7\n",
      "8\n",
      "9\n",
      "10\n",
      "11\n",
      "12\n",
      "13\n",
      "14\n",
      "15\n",
      "16\n",
      "17\n",
      "18\n",
      "19\n",
      "20\n",
      "21\n",
      "22\n",
      "23\n",
      "24\n",
      "25\n",
      "26\n",
      "27\n",
      "28\n",
      "29\n",
      "30\n",
      "31\n",
      "32\n",
      "33\n",
      "34\n",
      "35\n",
      "36\n",
      "37\n"
     ]
    }
   ],
   "source": [
    "# downloads all papers from doi list\n",
    "count=1\n",
    "for i in dois:\n",
    "    download_doi(i,path,count)\n",
    "    print(count)\n",
    "    count= count+1\n",
    "   "
   ]
  },
  {
   "cell_type": "markdown",
   "id": "5c3c3930",
   "metadata": {},
   "source": [
    "Using the code for Solar Cell Materials (Antimony Selenide)"
   ]
  }
 ],
 "metadata": {
  "kernelspec": {
   "display_name": "Python 3 (ipykernel)",
   "language": "python",
   "name": "python3"
  },
  "language_info": {
   "codemirror_mode": {
    "name": "ipython",
    "version": 3
   },
   "file_extension": ".py",
   "mimetype": "text/x-python",
   "name": "python",
   "nbconvert_exporter": "python",
   "pygments_lexer": "ipython3",
   "version": "3.9.0"
  }
 },
 "nbformat": 4,
 "nbformat_minor": 5
}
