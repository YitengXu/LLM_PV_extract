{
 "cells": [
  {
   "cell_type": "code",
   "execution_count": null,
   "metadata": {},
   "outputs": [],
   "source": []
  },
  {
   "cell_type": "code",
   "execution_count": 15,
   "metadata": {},
   "outputs": [
    {
     "data": {
      "text/plain": [
       "MAPbI3                                  46\n",
       "CH3NH3PbI3                              34\n",
       "TiO2                                    26\n",
       "PTB7:PC71BM                             25\n",
       "P3HT:PCBM                               23\n",
       "Perovskite                              21\n",
       "ZnO                                     16\n",
       "CH3NH3PbI3−xClx                         11\n",
       "PM6:Y6                                   9\n",
       "PTB7-Th:Coi8DFIC:PC61BM                  9\n",
       "CsPbBr3                                  9\n",
       "P1                                       8\n",
       "PbS                                      7\n",
       "CsPbI2Br                                 7\n",
       "P3HT                                     6\n",
       "Pt                                       6\n",
       "Not provided                             6\n",
       "PTB7-Th:PC71BM                           6\n",
       "P2                                       6\n",
       "CsPbI3                                   6\n",
       "P3HT:PC61BM                              6\n",
       "PCDTBT:PC71BM                            5\n",
       "Ag8SnS6                                  5\n",
       "Control                                  5\n",
       "Sb2S3                                    5\n",
       "PTB7-Th                                  5\n",
       "PffBT4T-2OD                              5\n",
       "TiO2/ZnO hybrid                          5\n",
       "PBDB-T                                   5\n",
       "PTAA                                     5\n",
       "p-MoO3                                   4\n",
       "Sb2(S,Se)3                               4\n",
       "C60                                      4\n",
       "PTTzF                                    4\n",
       "Spiro-OMeTAD                             4\n",
       "PM6:BTP-eC9                              4\n",
       "(FAPbI3)0.85(MAPbBr3)0.15 perovskite     4\n",
       "P3                                       4\n",
       "NP (Nanoparticles)                       4\n",
       "Cu2O                                     4\n",
       "PC61BM                                   4\n",
       "CS (Combination of NP and TF)            4\n",
       "TQ1:PC70BM blend                         4\n",
       "TF (Thin Films)                          4\n",
       "PEDOT:PSS                                4\n",
       "PTB7                                     4\n",
       "mp-ZnO-MAPbI3                            3\n",
       "PC71BM                                   3\n",
       "PTB7-Th:IEICO-4F                         3\n",
       "GGC                                      3\n",
       "Name: Absorber Layer, dtype: int64"
      ]
     },
     "execution_count": 15,
     "metadata": {},
     "output_type": "execute_result"
    }
   ],
   "source": [
    "import pandas as pd\n",
    "\n",
    "# Reading the csv file\n",
    "correct_data_pd = pd.read_csv('/Users/yitengxu/Desktop/PaperScraper-Final/result_collected/correct_data.csv')\n",
    "\n",
    "# Calculating the counts for each Absorber Layer\n",
    "absorber_layer_counts = correct_data_pd['Absorber Layer'].value_counts()\n",
    "\n",
    "# Displaying the top 50 Absorber Layers\n",
    "top_50_absorber_layers = absorber_layer_counts.head(50)\n",
    "top_50_absorber_layers\n"
   ]
  },
  {
   "cell_type": "code",
   "execution_count": 16,
   "metadata": {},
   "outputs": [
    {
     "data": {
      "text/plain": [
       "MAPbI3         46\n",
       "CH3NH3PbI3     34\n",
       "TiO2           26\n",
       "PTB7:PC71BM    25\n",
       "P3HT:PCBM      23\n",
       "               ..\n",
       "P4TSe           1\n",
       "TQ1:PC71BM      1\n",
       "IDT-IC          1\n",
       "CuMe2Pc         1\n",
       "IB3             1\n",
       "Name: Absorber Layer, Length: 1465, dtype: int64"
      ]
     },
     "execution_count": 16,
     "metadata": {},
     "output_type": "execute_result"
    }
   ],
   "source": [
    "absorber_layer_counts"
   ]
  }
 ],
 "metadata": {
  "kernelspec": {
   "display_name": "base",
   "language": "python",
   "name": "python3"
  },
  "language_info": {
   "codemirror_mode": {
    "name": "ipython",
    "version": 3
   },
   "file_extension": ".py",
   "mimetype": "text/x-python",
   "name": "python",
   "nbconvert_exporter": "python",
   "pygments_lexer": "ipython3",
   "version": "3.9.13"
  },
  "orig_nbformat": 4
 },
 "nbformat": 4,
 "nbformat_minor": 2
}
