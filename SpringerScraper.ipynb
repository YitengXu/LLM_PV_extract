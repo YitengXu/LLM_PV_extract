{
 "cells": [
  {
   "cell_type": "code",
   "execution_count": 18,
   "id": "3602e60a",
   "metadata": {},
   "outputs": [
    {
     "name": "stdout",
     "output_type": "stream",
     "text": [
      "Requirement already satisfied: requests in /opt/anaconda3/lib/python3.7/site-packages (2.22.0)\n",
      "Requirement already satisfied: chardet<3.1.0,>=3.0.2 in /opt/anaconda3/lib/python3.7/site-packages (from requests) (3.0.4)\n",
      "Requirement already satisfied: idna<2.9,>=2.5 in /opt/anaconda3/lib/python3.7/site-packages (from requests) (2.8)\n",
      "Requirement already satisfied: urllib3!=1.25.0,!=1.25.1,<1.26,>=1.21.1 in /opt/anaconda3/lib/python3.7/site-packages (from requests) (1.25.11)\n",
      "Requirement already satisfied: certifi>=2017.4.17 in /opt/anaconda3/lib/python3.7/site-packages (from requests) (2023.5.7)\n",
      "\n",
      "\u001b[1m[\u001b[0m\u001b[34;49mnotice\u001b[0m\u001b[1;39;49m]\u001b[0m\u001b[39;49m A new release of pip is available: \u001b[0m\u001b[31;49m23.1.2\u001b[0m\u001b[39;49m -> \u001b[0m\u001b[32;49m23.2\u001b[0m\n",
      "\u001b[1m[\u001b[0m\u001b[34;49mnotice\u001b[0m\u001b[1;39;49m]\u001b[0m\u001b[39;49m To update, run: \u001b[0m\u001b[32;49mpip install --upgrade pip\u001b[0m\n"
     ]
    }
   ],
   "source": [
    "!pip install requests"
   ]
  },
  {
   "attachments": {},
   "cell_type": "markdown",
   "id": "f209cb91",
   "metadata": {},
   "source": [
    "The following cell is used to obtain dois"
   ]
  },
  {
   "cell_type": "code",
   "execution_count": 26,
   "id": "e1923eb0",
   "metadata": {},
   "outputs": [
    {
     "name": "stdout",
     "output_type": "stream",
     "text": [
      "There are 8350 DOI lists in DOI_Springer File\n"
     ]
    }
   ],
   "source": [
    "# -*- coding: utf-8 -*-\n",
    "#'Springer web-scraper. PLEASE use your own API key.''\n",
    "\n",
    "#__author__ = 'Li Zhenzhu'\n",
    "#__email__ = 'lizhenzhupearl@gmail.com'\n",
    "\n",
    "# ---------------------------------------- INPUT BOX, please input all info ----------------------------------------\n",
    "\n",
    "# input a list of searchable single words- note it is possible that this scraper searches for each word individually.\n",
    "# relevancy is considered anyway in the final data extraction\n",
    "#query = ['photovoltaic', 'antimony', 'selenide']\n",
    "\n",
    "query = ['Solar cell power conversion efficiency']\n",
    "\n",
    "# input s: The index of the first hit to return. If 0, treated as 1. The default is 1\n",
    "# input p: The maximum number of hits/results to return. The default is 10.\n",
    "p = '50000' \n",
    "\n",
    "api_key = '87ba7cb21f89ce78154df796840621f4'\n",
    "\n",
    "# input file path of SpringerPapers folder\n",
    "#path = 'C:/Users/Shirley/OneDrive - Imperial College London/Desktop/Folders/Summer UROP 2022 with Aron/Code/APIs/jup notebook/SpringerPapers'\n",
    "\n",
    "# saved path 需要保存的文件路径\n",
    "path = '/Users/yitengxu/Desktop/PaperScraper-Final/SpringerPapers'\n",
    "\n",
    "# -------------------------------------------------- end of input box --------------------------------------------------\n",
    "\n",
    "import requests\n",
    "import os\n",
    "\n",
    "#query_string = '' # 1\n",
    "s = 1\n",
    "count = 1\n",
    "\n",
    "# 保存DOI 文件的命名\n",
    "filepath = f'{path}/DOI_Springer_PV'\n",
    "if os.path.isfile(filepath):\n",
    "    os.remove(filepath)\n",
    "\n",
    "for q in query: # 1\n",
    "    query_string = f'{q}%20' # 1\n",
    "    #print(query_string)\n",
    "    request_string = f'https://api.springernature.com/openaccess/json?api_key={api_key}&q={query_string}&s={s}&p={p}' # 1\n",
    "\n",
    "    # response = requests.get('https://api.springernature.com/openaccess/json?api_key=b0b7fb62994fa6bd68bc9fdbc0e2da52&q=antimony%20selenide%20photovoltaic%20&s=1&p=1000') # 2\n",
    "    response = requests.get(request_string)\n",
    "\n",
    "    #print(vars(response).keys())\n",
    "    #print(response._content)\n",
    "    #print(response.json())\n",
    "    #print(response.json())\n",
    "    #print(response.json()['result'][0]['total'])\n",
    "    index = int(response.json()['result'][0]['total']) / 100 \n",
    "    #print(int(index))\n",
    "    for i in range(0, int(index) + 1):\n",
    "        #print(1)\n",
    "        s = 100 * i + 1\n",
    "        request_string = f'https://api.springernature.com/openaccess/json?api_key={api_key}&q={query_string}&s={s}&p={p}' # 1\n",
    "        # response = requests.get('https://api.springernature.com/openaccess/json?api_key=b0b7fb62994fa6bd68bc9fdbc0e2da52&q=antimony%20selenide%20photovoltaic%20&s=1&p=1000') # 2\n",
    "        response = requests.get(request_string)\n",
    "        springerjson = response.json()\n",
    "        springerdoi = [ z['doi'] for z in springerjson['records']]\n",
    "        #print(len(springerdoi))\n",
    "        filename = open(f'{path}/DOI_Springer_PV', 'a+')\n",
    "        for i in springerdoi:\n",
    "            filename.write(i+'\\n')\n",
    "        filename.close()\n",
    "\n",
    "file1 = open(f'{path}/DOI_Springer_PV', 'r')\n",
    "Lines = file1.readlines()\n",
    " \n",
    "count = 0\n",
    "# Strips the newline character\n",
    "for line in Lines:\n",
    "    count += 1\n",
    "print('There are ' + str(count) + ' DOI lists in DOI_Springer File')\n"
   ]
  },
  {
   "attachments": {},
   "cell_type": "markdown",
   "id": "13aaa688",
   "metadata": {},
   "source": [
    "To prevent repeated DIO string, file will remove extra one"
   ]
  },
  {
   "cell_type": "code",
   "execution_count": 27,
   "id": "7c92c85f",
   "metadata": {},
   "outputs": [
    {
     "name": "stdout",
     "output_type": "stream",
     "text": [
      "There are 8350 DOI lists in DOI_Springer File\n"
     ]
    }
   ],
   "source": [
    "##To prevent repeated DIO string, file will remove extra one   在DOI文件里清除重复的DOI list\n",
    "\n",
    "\n",
    "filename = f'{path}/DOI_Springer_PV'\n",
    "with open(filename, 'r+') as file:\n",
    "    lines = file.readlines()\n",
    "    file.seek(0)  # 将文件指针移回文件开头\n",
    "    unique_lines = set(lines)  # 使用集合来去除重复的行\n",
    "    file.writelines(unique_lines)\n",
    "    file.truncate()  # 截断文件，删除多余的内容\n",
    "\n",
    "file1 = open(f'{path}/DOI_Springer_PV', 'r')\n",
    "Lines = file1.readlines()\n",
    "count = 0\n",
    "# Strips the newline character\n",
    "for line in Lines:\n",
    "    count += 1\n",
    "print('There are ' + str(count) + ' DOI lists in DOI_Springer File')\n"
   ]
  },
  {
   "attachments": {},
   "cell_type": "markdown",
   "id": "4658fd77",
   "metadata": {},
   "source": []
  },
  {
   "attachments": {},
   "cell_type": "markdown",
   "id": "1704ec70",
   "metadata": {},
   "source": [
    "The following cell converts dois to urls"
   ]
  },
  {
   "cell_type": "code",
   "execution_count": 28,
   "id": "76801b4f",
   "metadata": {},
   "outputs": [],
   "source": [
    "filepath_url = f\"{path}/URL_Springer_PV\"\n",
    "if os.path.isfile(filepath_url):\n",
    "    os.remove(filepath_url)\n",
    "\n",
    "f = open(f\"{path}/DOI_Springer_PV\", \"r\") # 1\n",
    "Doilines = f.readlines()\n",
    "\n",
    "f2 = open(f\"{path}/URL_Springer_PV\", \"w\") # 1\n",
    "\n",
    "\n",
    "DoiUrls = []\n",
    "for doi in Doilines:\n",
    "    doiUrls = \"https://api.springernature.com/openaccess/jats?q=doi:{}&p=2&api_key={}\".format(str(doi).strip('\\n'), api_key)\n",
    "#    doiUrls = \"https://api.springernature.com/openaccess/jats?q=doi:{}&p=2&api_key={}\".format(str(doi).strip('\\n'), \"b0b7fb62994fa6bd68bc9fdbc0e2da52\")\n",
    "    DoiUrls.append(doiUrls)\n",
    "for i in range(0, len(DoiUrls)):\n",
    "    f2.write(DoiUrls[i]+'\\n')\n",
    "f2.close()"
   ]
  },
  {
   "attachments": {},
   "cell_type": "markdown",
   "id": "426bab1f",
   "metadata": {},
   "source": [
    "The following cell downloads papers as xml files"
   ]
  },
  {
   "cell_type": "code",
   "execution_count": 30,
   "id": "93e3b2c3",
   "metadata": {},
   "outputs": [],
   "source": [
    "import urllib.request as request\n",
    "import json\n",
    "f = open(f\"{path}/URL_Springer_PV\", \"r\") # 1\n",
    "# f = open(\"C:/Users/Shirley/OneDrive - Imperial College London/Desktop/Folders/Summer UROP 2022 with Aron/Code/APIs/jup notebook/Springer1Papers/URL_Springer_PV\", \"r\") # 2\n",
    "Urls = f.readlines()\n",
    "count = 0\n",
    "for url in Urls:\n",
    "    WebContent = request.urlopen(url).read()\n",
    "    f = open(f\"{path}/SpringerXml/\"+str(count)+'.xml', 'wb') #1\n",
    "#    f = open(\"C:/Users/Shirley/OneDrive - Imperial College London/Desktop/Folders/Summer UROP 2022 with Aron/Code/APIs/jup notebook/Springer1Papers/SpringerXml/\"+str(count)+'.xml', 'wb') #2\n",
    "    count = count + 1\n",
    "    f.write(WebContent)\n",
    "    f.close()"
   ]
  },
  {
   "cell_type": "code",
   "execution_count": 73,
   "id": "38e0b781",
   "metadata": {},
   "outputs": [
    {
     "name": "stdout",
     "output_type": "stream",
     "text": [
      "138\n"
     ]
    }
   ],
   "source": [
    "print(count)"
   ]
  },
  {
   "cell_type": "code",
   "execution_count": null,
   "id": "9181b609",
   "metadata": {},
   "outputs": [],
   "source": []
  }
 ],
 "metadata": {
  "kernelspec": {
   "display_name": "Python 3 (ipykernel)",
   "language": "python",
   "name": "python3"
  },
  "language_info": {
   "codemirror_mode": {
    "name": "ipython",
    "version": 3
   },
   "file_extension": ".py",
   "mimetype": "text/x-python",
   "name": "python",
   "nbconvert_exporter": "python",
   "pygments_lexer": "ipython3",
   "version": "3.7.4"
  }
 },
 "nbformat": 4,
 "nbformat_minor": 5
}
