{
 "cells": [
  {
   "cell_type": "code",
   "execution_count": 4,
   "metadata": {},
   "outputs": [],
   "source": [
    "import pdfkit\n",
    "\n"
   ]
  },
  {
   "cell_type": "code",
   "execution_count": 12,
   "metadata": {},
   "outputs": [
    {
     "name": "stdout",
     "output_type": "stream",
     "text": [
      "PDF conversion failed: wkhtmltopdf reported an error:\n",
      "Exit with code 1 due to network error: ContentNotFoundError\n",
      "\n"
     ]
    }
   ],
   "source": [
    "import pdfkit\n",
    "\n",
    "def html_file_to_pdf(input_path, output_path):\n",
    "    try:\n",
    "        options = {\n",
    "            'quiet': '',\n",
    "            'enable-local-file-access': '',\n",
    "            'no-stop-slow-scripts': ''\n",
    "        }\n",
    "        pdfkit.from_file(input_path, output_path, options=options)\n",
    "        print(\"PDF conversion successful!\")\n",
    "    except Exception as e:\n",
    "        print(f\"PDF conversion failed: {str(e)}\")\n",
    "\n",
    "if __name__ == \"__main__\":\n",
    "    # 替换为你的HTML文件路径\n",
    "    html_file_path = \"/Users/yitengxu/Desktop/PaperScraper-Final/RSCPapers/RSCHtml2/31.html\"\n",
    "\n",
    "    # 替换为你想要保存PDF的路径和文件名\n",
    "    output_path = \"/Users/yitengxu/Desktop/PaperScraper-Final/output_31_html.pdf\"\n",
    "\n",
    "    html_file_to_pdf(html_file_path, output_path)\n"
   ]
  }
 ],
 "metadata": {
  "kernelspec": {
   "display_name": "Python 3",
   "language": "python",
   "name": "python3"
  },
  "language_info": {
   "codemirror_mode": {
    "name": "ipython",
    "version": 3
   },
   "file_extension": ".py",
   "mimetype": "text/x-python",
   "name": "python",
   "nbconvert_exporter": "python",
   "pygments_lexer": "ipython3",
   "version": "3.7.4"
  },
  "orig_nbformat": 4
 },
 "nbformat": 4,
 "nbformat_minor": 2
}
