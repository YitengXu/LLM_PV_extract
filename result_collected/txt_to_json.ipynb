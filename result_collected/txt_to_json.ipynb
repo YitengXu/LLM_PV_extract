{
 "cells": [
  {
   "cell_type": "code",
   "execution_count": 6,
   "metadata": {},
   "outputs": [],
   "source": [
    "import json\n",
    "import os\n",
    "import re\n",
    "import glob"
   ]
  },
  {
   "cell_type": "code",
   "execution_count": 7,
   "metadata": {},
   "outputs": [],
   "source": [
    "\n",
    "def extract_json(input_folder, output_folder):\n",
    "    # 确保输出文件夹存在\n",
    "    if not os.path.exists(output_folder):\n",
    "        os.makedirs(output_folder)\n",
    "\n",
    "    # 遍历输入文件夹中的所有TXT文件\n",
    "    for filename in os.listdir(input_folder):\n",
    "        if filename.endswith('.txt'):\n",
    "            input_path = os.path.join(input_folder, filename)\n",
    "            with open(input_path, 'r') as file:\n",
    "                content = file.read()\n",
    "                # 使用正则表达式找到JSON数据\n",
    "                matches = re.findall(r'\\[\\s*\\{.*?\\}\\s*\\]', content, re.DOTALL)\n",
    "                for match in matches:\n",
    "                    json_data = json.loads(match)\n",
    "                    # 将JSON数据保存到输出文件夹中\n",
    "                    output_path = os.path.join(output_folder, filename.replace('.txt', '.json'))\n",
    "                    with open(output_path, 'w') as output_file:\n",
    "                        json.dump(json_data, output_file, indent=4)\n",
    "\n",
    "\n",
    "# 示例用法\n"
   ]
  },
  {
   "cell_type": "code",
   "execution_count": 8,
   "metadata": {},
   "outputs": [],
   "source": [
    "input_folder = '/Users/yitengxu/Desktop/PaperScraper-Final/RSCPapers/RSC_final_extracted_data_2'\n",
    "output_folder = '/Users/yitengxu/Desktop/PaperScraper-Final/result_collected/JSON_result'\n",
    "extract_json(input_folder, output_folder)\n",
    "#注意前1745个result是第一批次"
   ]
  },
  {
   "cell_type": "code",
   "execution_count": 9,
   "metadata": {},
   "outputs": [],
   "source": [
    "\n",
    "\n",
    "def combine_json_files(output_folder, new_folder_path, combined_filename='raw_combined_all.json'):\n",
    "    # 确保新文件夹路径存在\n",
    "    if not os.path.exists(new_folder_path):\n",
    "        os.makedirs(new_folder_path)\n",
    "\n",
    "    combined_data = []\n",
    "    # 遍历输出文件夹中的所有JSON文件\n",
    "    for filename in glob.glob(os.path.join(output_folder, '*.json')):\n",
    "        with open(filename, 'r') as file:\n",
    "            data = json.load(file)\n",
    "            combined_data.extend(data)\n",
    "\n",
    "    # 将整合后的数据保存到新的JSON文件中\n",
    "    combined_path = os.path.join(new_folder_path, combined_filename)\n",
    "    with open(combined_path, 'w') as file:\n",
    "        json.dump(combined_data, file, indent=4)\n",
    "\n"
   ]
  },
  {
   "cell_type": "code",
   "execution_count": 10,
   "metadata": {},
   "outputs": [],
   "source": [
    "\n",
    "JSONs_folder = '/Users/yitengxu/Desktop/PaperScraper-Final/result_collected/JSON_result'\n",
    "combine_folder_path = '/Users/yitengxu/Desktop/PaperScraper-Final/result_collected/combined_JSON'\n",
    "combine_json_files(JSONs_folder, combine_folder_path)"
   ]
  }
 ],
 "metadata": {
  "kernelspec": {
   "display_name": "paperqa",
   "language": "python",
   "name": "python3"
  },
  "language_info": {
   "codemirror_mode": {
    "name": "ipython",
    "version": 3
   },
   "file_extension": ".py",
   "mimetype": "text/x-python",
   "name": "python",
   "nbconvert_exporter": "python",
   "pygments_lexer": "ipython3",
   "version": "3.9.0"
  },
  "orig_nbformat": 4
 },
 "nbformat": 4,
 "nbformat_minor": 2
}
