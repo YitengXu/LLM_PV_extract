{
 "cells": [
  {
   "cell_type": "code",
   "execution_count": 1,
   "id": "aa34f5e4",
   "metadata": {},
   "outputs": [],
   "source": [
    "#—————————————————————————————————————————————————— INPUT BOX ——————————————————————————————————————————#\n",
    "# Input query to search and extracting papers 输入值\n",
    "\n",
    "# key word for searching 关键词搜素\n",
    "query = \"Antimony Selenide solar cell\"\n",
    "\n",
    "# saved path 需要保存的文件路径\n",
    "path  = '/Users/yitengxu/Desktop/Project/Final Handover Code/Paper Scrapers and Parser/RSCPapers'\n"
   ]
  },
  {
   "cell_type": "code",
   "execution_count": 47,
   "id": "493abc90",
   "metadata": {},
   "outputs": [],
   "source": [
    "# -*- coding: utf-8 -*-\n",
    "\"\"\"\n",
    "Royal Society of Chemistry web-scraper. Please get the permission from RSC before web-scraping.\n",
    "\"\"\"\n",
    "import os\n",
    "import re\n",
    "import requests\n",
    "import urllib.request\n",
    "from urllib.parse import quote\n",
    "from chemdataextractor.scrape.pub.rsc import RscSearchScraper\n",
    "from selenium import webdriver\n",
    "\n",
    "\n",
    "\n",
    "\n",
    "\n",
    "# This doi dependent in certain webpage   只统计网页里一页的doi 有25个\n",
    "def get_doi(query, pagenumber, output_file):\n",
    "    \"\"\"\n",
    "    Find the DOIs of a topic in RSC\n",
    "    :param query: <str> search topic\n",
    "    :param pagenumber: <int> the page of the search items\n",
    "    :param output_file: <str> output file path\n",
    "    :return: <list> of <str> list of DOIs\n",
    "    \"\"\"\n",
    "    # Create a Chrome WebDriver instance\n",
    "    driver = webdriver.Chrome(executable_path='/Users/yitengxu/Desktop/PaperScraper-master/paperscraper/webdrivers/chromedriver_mac64/chromedriver')\n",
    "\n",
    "    try:\n",
    "        scrape = RscSearchScraper(driver=driver).run(query, page=pagenumber)\n",
    "        results = scrape.serialize()\n",
    "        dois = [result['doi'] for result in results]\n",
    "\n",
    "        filename = open(f'{path}/DOI_RSC_PV', 'a+')\n",
    "        for i in dois:\n",
    "            filename.write(i+'\\n')\n",
    "        filename.close()\n",
    "\n",
    "        return dois\n",
    "    finally:\n",
    "        # Quit the driver to close the browser window and release resources\n",
    "        driver.quit()\n",
    "    \n",
    "\n",
    "\n",
    "# def way to find number of result.  P.S: each page include 25 result.  统计搜索后多少结果数\n",
    "def extract_result_count(url):\n",
    "    headers = {\n",
    "        'User-Agent': 'Mozilla/5.0 (Windows NT 10.0; Win64; x64) AppleWebKit/537.36 (KHTML, like Gecko) Chrome/91.0.4472.124 Safari/537.36',\n",
    "        'Accept-Language': 'en-US,en;q=0.9',\n",
    "    }\n",
    "    response = requests.get(url, headers=headers)\n",
    "    text = response.text\n",
    "\n",
    "    result = re.search(r'\"Count\":(\\d+)', text)\n",
    "    if result:\n",
    "        count = int(result.group(1))\n",
    "        return count\n",
    "    else:\n",
    "        return print('None found')\n",
    "\n",
    "# 统计所以结果的doi ，最后doi的运行指令\n",
    "def get_total_doi(result_count):\n",
    "    import math\n",
    "    \n",
    "    numberpages = math.ceil(result_count / 25)\n",
    "    \n",
    "    for i in range(1, numberpages + 1):\n",
    "        get_doi(query, i, path)\n",
    "\n",
    "\n",
    "def get_url(doi):\n",
    "    \"\"\"\n",
    "    Find the full url address according to the DOI\n",
    "    :param doi: <str> DOI\n",
    "    :return: <str> url text\n",
    "    \"\"\"\n",
    "    try:\n",
    "        r = requests.get(\n",
    "            'http://doi.org/' +\n",
    "            doi,\n",
    "            headers={\n",
    "                'User-Agent': 'Mozilla/5.0 (Windows NT 6.0; WOW64; rv:24.0) Gecko/20100101 Firefox/24.0'})\n",
    "        result = re.findall(\n",
    "            r'https://pubs.rsc.org/en/content/articlehtml/.*?\"',\n",
    "            r.text)\n",
    "        result = result[0][:-1]\n",
    "        return result\n",
    "    except IndexError:\n",
    "        return None\n",
    "\n",
    "\n",
    "def download_doi(dois):\n",
    "    \"\"\"\n",
    "    Download the paper according to the DOI\n",
    "    :param dois: <list> list of DOIs\n",
    "    \"\"\"\n",
    "    count = 0\n",
    "    for i in dois:\n",
    "        try:\n",
    "            count += 1\n",
    "            webcontent = urllib.request.urlopen(get_url(i)).read()\n",
    "            f = open(f\"{path}/RSCHtml/{count}.html\", 'wb')\n",
    "            f.write(webcontent)\n",
    "            f.close()\n",
    "        except AttributeError:\n",
    "            continue\n"
   ]
  },
  {
   "cell_type": "code",
   "execution_count": 4,
   "id": "a7c322ab",
   "metadata": {},
   "outputs": [],
   "source": [
    "# clearing any file runned  清除已经运行过的doi文件残留\n",
    "\n",
    "\n",
    "filepath = f'{path}/DOI_RSC_PV' # ！这里有文件命名\n",
    "if os.path.isfile(filepath):\n",
    "    os.remove(filepath)"
   ]
  },
  {
   "cell_type": "code",
   "execution_count": 48,
   "id": "dc3c6b16",
   "metadata": {},
   "outputs": [
    {
     "name": "stdout",
     "output_type": "stream",
     "text": [
      "Number of papers results: 216\n"
     ]
    }
   ],
   "source": [
    "# To find number of result in this query \n",
    "\n",
    "\n",
    "url = \"http://pubs.rsc.org/en/results?searchtext=\" \n",
    "\n",
    "encoded_query = quote(query)\n",
    "url_searched =url + encoded_query\n",
    "\n",
    "result_count = extract_result_count(url_searched)\n",
    "print(\"Number of papers results:\", result_count)\n"
   ]
  },
  {
   "cell_type": "code",
   "execution_count": 6,
   "id": "6d1f08e3",
   "metadata": {},
   "outputs": [],
   "source": [
    "get_total_doi(result_count)"
   ]
  },
  {
   "cell_type": "code",
   "execution_count": 49,
   "id": "712a4cdc",
   "metadata": {},
   "outputs": [
    {
     "name": "stdout",
     "output_type": "stream",
     "text": [
      "There are 216 DOI lists in DOI File\n"
     ]
    }
   ],
   "source": [
    "# 在DOI文件里清除重复的DOI 元素\n",
    "# To prevent repeated DIO string, file will remove extra one  \n",
    "\n",
    "filename = f'{path}/DOI_RSC_PV' # ！文件命名\n",
    "with open(filename, 'r+') as file:\n",
    "    lines = file.readlines()\n",
    "    file.seek(0)  # 将文件指针移回文件开头\n",
    "    unique_lines = set(lines)  # 使用集合来去除重复的行\n",
    "    file.writelines(unique_lines)\n",
    "    file.truncate()  # 截断文件，删除多余的内容\n",
    "\n",
    "file1 = open(f'{path}/DOI_RSC_PV', 'r')  # ！文件命名\n",
    "Lines = file1.readlines()\n",
    "count = 0\n",
    "# Strips the newline character\n",
    "for line in Lines:\n",
    "    count += 1\n",
    "print('There are ' + str(count) + ' DOI lists in DOI File')"
   ]
  },
  {
   "cell_type": "code",
   "execution_count": 50,
   "id": "e2bad238",
   "metadata": {},
   "outputs": [],
   "source": [
    "# Read dois in a list ,读取写入的dois 内容作为list\n",
    "\n",
    "def read_doi_file(file_path):\n",
    "    with open(file_path, 'r') as file:\n",
    "        dois = [line.strip() for line in file]\n",
    "    return dois\n",
    "\n",
    "dois = read_doi_file(filename)\n",
    "\n",
    "\n",
    "\n"
   ]
  },
  {
   "cell_type": "code",
   "execution_count": 51,
   "id": "a84684a1",
   "metadata": {},
   "outputs": [],
   "source": [
    "# Final html file paper output   最后的html格式论文输出\n",
    "download_doi(dois)"
   ]
  },
  {
   "cell_type": "code",
   "execution_count": null,
   "id": "af33cfd3",
   "metadata": {},
   "outputs": [],
   "source": [
    "# ！注意这里输出结果数字不一定是连续的，未出现的数字意味着该doi元素无html格式资源"
   ]
  }
 ],
 "metadata": {
  "kernelspec": {
   "display_name": "Python 3 (ipykernel)",
   "language": "python",
   "name": "python3"
  },
  "language_info": {
   "codemirror_mode": {
    "name": "ipython",
    "version": 3
   },
   "file_extension": ".py",
   "mimetype": "text/x-python",
   "name": "python",
   "nbconvert_exporter": "python",
   "pygments_lexer": "ipython3",
   "version": "3.9.13"
  }
 },
 "nbformat": 4,
 "nbformat_minor": 5
}
